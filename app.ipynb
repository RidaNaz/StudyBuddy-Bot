{
 "cells": [
  {
   "cell_type": "markdown",
   "metadata": {},
   "source": [
    "# **Crewai Chatbot**"
   ]
  },
  {
   "cell_type": "code",
   "execution_count": null,
   "metadata": {},
   "outputs": [],
   "source": [
    "%pip install -Uq crewai crewai-tools crewai-tools langchain langchain_community google-generativeai python-dotenv"
   ]
  },
  {
   "cell_type": "code",
   "execution_count": null,
   "metadata": {},
   "outputs": [],
   "source": [
    "import os\n",
    "from dotenv import load_dotenv\n",
    "\n",
    "load_dotenv()\n",
    "\n",
    "os.environ['GEMINI_API_KEY'] =  os.getenv('GEMINI_API_KEY')\n",
    "os.environ['SERPER_API_KEY'] =  os.getenv('SERPAPI_API_KEY')"
   ]
  },
  {
   "cell_type": "code",
   "execution_count": 3,
   "metadata": {},
   "outputs": [],
   "source": [
    "import nest_asyncio\n",
    "nest_asyncio.apply()"
   ]
  },
  {
   "cell_type": "code",
   "execution_count": 4,
   "metadata": {},
   "outputs": [
    {
     "name": "stderr",
     "output_type": "stream",
     "text": [
      "e:\\Rida\\PIAIC\\Quarter4\\Crewai Bot\\.venv\\Lib\\site-packages\\tqdm\\auto.py:21: TqdmWarning: IProgress not found. Please update jupyter and ipywidgets. See https://ipywidgets.readthedocs.io/en/stable/user_install.html\n",
      "  from .autonotebook import tqdm as notebook_tqdm\n"
     ]
    }
   ],
   "source": [
    "from crewai import LLM\n",
    "\n",
    "llm1 = LLM(\n",
    "    model=\"gemini/gemini-2.0-flash\",\n",
    ")\n",
    "\n",
    "import google.generativeai as genai\n",
    "\n",
    "genai.configure(api_key=os.getenv(\"GEMINI_API_KEY\"))"
   ]
  },
  {
   "cell_type": "code",
   "execution_count": 5,
   "metadata": {},
   "outputs": [],
   "source": [
    "google_embedder = {\n",
    "    \"provider\": \"google\",\n",
    "    \"config\": {\n",
    "         \"model\": \"models/text-embedding-004\",\n",
    "         \"api_key\": os.getenv('GEMINI_API_KEY'),\n",
    "         }\n",
    "}"
   ]
  },
  {
   "cell_type": "code",
   "execution_count": 6,
   "metadata": {},
   "outputs": [
    {
     "name": "stdout",
     "output_type": "stream",
     "text": [
      "\u001b[1m\u001b[95m# Agent:\u001b[00m \u001b[1m\u001b[92mAbout User\u001b[00m\n",
      "\u001b[95m## Task:\u001b[00m \u001b[92mAnswer the following questions about the user: Where the holding period exceeds 4 Years but does not exceed 5 Years\u001b[00m\n",
      "\n",
      "\n",
      "\u001b[1m\u001b[95m# Agent:\u001b[00m \u001b[1m\u001b[92mAbout User\u001b[00m\n",
      "\u001b[95m## Final Answer:\u001b[00m \u001b[92m\n",
      "Where the holding period exceeds 4 Years but does not exceed 5 Years:\n",
      "\n",
      "*   **Capital Gains on Disposal of Immoveable Property (Acquired between 1 Jul 2022 to 30 Jun 2024):**\n",
      "    *   Constructed Property: 5%\n",
      "    *   Open Plots: 0%\n",
      "    *   Flats: - (This likely indicates that the rate is not specified or doesn't exist for flats in this holding period)\n",
      "\n",
      "*   **Capital Gains on Disposal of Securities (Acquired between 1 Jul 2022 to 30 Jun 2024):** 5% for Non-Filer with the cap rate of 15%\u001b[00m\n",
      "\n",
      "\n"
     ]
    }
   ],
   "source": [
    "from crewai import Agent, Task, Crew, Process, LLM\n",
    "from crewai.knowledge.source.pdf_knowledge_source import PDFKnowledgeSource\n",
    "\n",
    "# Create a PDF knowledge source\n",
    "pdf_source = PDFKnowledgeSource(\n",
    "    file_paths=[\"tax-card.pdf\"]\n",
    ")\n",
    "\n",
    "\n",
    "# Create an agent with the knowledge store\n",
    "agent = Agent(\n",
    "    role=\"About User\",\n",
    "    goal=\"You know everything about the user.\",\n",
    "    backstory=\"\"\"You are a master at understanding people and their preferences.\"\"\",\n",
    "    verbose=True,\n",
    "    allow_delegation=False,\n",
    "    llm=llm1,\n",
    ")\n",
    "task = Task(\n",
    "    description=\"Answer the following questions about the user: {question}\",\n",
    "    expected_output=\"An answer to the question.\",\n",
    "    agent=agent,\n",
    ")\n",
    "\n",
    "crew = Crew(\n",
    "    memory=True,\n",
    "    agents=[agent],\n",
    "    tasks=[task],\n",
    "    verbose=True,\n",
    "    process=Process.sequential,\n",
    "    knowledge_sources=[pdf_source], # Enable knowledge by adding the sources here\n",
    "    embedder=google_embedder\n",
    "\n",
    ")\n",
    "\n",
    "result = crew.kickoff(inputs={\"question\": \"Where the holding period exceeds 4 Years but does not exceed 5 Years\"})"
   ]
  },
  {
   "cell_type": "code",
   "execution_count": 11,
   "metadata": {},
   "outputs": [],
   "source": [
    "import os\n",
    "os.environ['CREWAI_STORAGE_DIR']='/my_crew1'"
   ]
  },
  {
   "cell_type": "code",
   "execution_count": 44,
   "metadata": {},
   "outputs": [
    {
     "name": "stderr",
     "output_type": "stream",
     "text": [
      "Overriding of current TracerProvider is not allowed\n"
     ]
    }
   ],
   "source": [
    "from crewai import Crew, Process\n",
    "from crewai.memory import LongTermMemory, ShortTermMemory, EntityMemory\n",
    "# from crewai.memory.storage import LTMSQLiteStorage, RAGStorage\n",
    "from crewai.memory.storage.ltm_sqlite_storage import LTMSQLiteStorage\n",
    "from crewai.memory.storage.rag_storage import RAGStorage\n",
    "\n",
    "from typing import List, Optional\n",
    "\n",
    "# Create an agent with the knowledge store\n",
    "agent = Agent(\n",
    "    role=\"About User\",\n",
    "    goal=\"You know everything about the user.\",\n",
    "    backstory=\"\"\"You are a master at understanding people and their preferences.\"\"\",\n",
    "    verbose=True,\n",
    "    allow_delegation=False,\n",
    "    llm=llm1,\n",
    ")\n",
    "task = Task(\n",
    "    description=\"Answer the following questions about the user: {question}\",\n",
    "    expected_output=\"An answer to the question.\",\n",
    "    agent=agent,\n",
    ")\n",
    "\n",
    "crew = Crew(\n",
    "    agents=[agent],\n",
    "    tasks=[task],\n",
    "    process = Process.sequential,\n",
    "    memory = True,\n",
    "    # Long-term memory for persistent storage across sessions\n",
    "    long_term_memory = LongTermMemory(\n",
    "        storage=LTMSQLiteStorage(\n",
    "            db_path=\"./my_crew2/long_term_memory_storage1.db\"\n",
    "        )\n",
    "    ),\n",
    "    # Short-term memory for current context using RAG\n",
    "    short_term_memory = ShortTermMemory(\n",
    "        storage = RAGStorage(\n",
    "                embedder_config=google_embedder,\n",
    "                type=\"short_term\",\n",
    "                path=\"./my_crew2/short_term1/\"\n",
    "            )\n",
    "        ),\n",
    "\n",
    "    # Entity memory for tracking key information about entities\n",
    "    entity_memory = EntityMemory(\n",
    "        storage=RAGStorage(\n",
    "            embedder_config=google_embedder,\n",
    "            type=\"short_term\",\n",
    "            path=\"./my_crew2/entity1/\"\n",
    "        )\n",
    "    ),\n",
    "    verbose=True,\n",
    ")"
   ]
  },
  {
   "cell_type": "code",
   "execution_count": 7,
   "metadata": {},
   "outputs": [],
   "source": [
    "embedder = {\n",
    "        \"provider\": \"google\",\n",
    "        \"config\": {\n",
    "            \"model\": \"models/text-embedding-004\",\n",
    "            \"api_key\": os.getenv('GEMINI_API_KEY'),\n",
    "        }\n",
    "    }"
   ]
  },
  {
   "cell_type": "code",
   "execution_count": 8,
   "metadata": {},
   "outputs": [
    {
     "name": "stdout",
     "output_type": "stream",
     "text": [
      "API Key: 0937136758d3619a8c8aee168aaa0642d0aca58f\n"
     ]
    }
   ],
   "source": [
    "import os\n",
    "from dotenv import load_dotenv\n",
    "load_dotenv()\n",
    "\n",
    "print(\"API Key:\", os.getenv(\"SERPAPI_API_KEY\"))"
   ]
  },
  {
   "cell_type": "code",
   "execution_count": 13,
   "metadata": {},
   "outputs": [
    {
     "name": "stderr",
     "output_type": "stream",
     "text": [
      "Overriding of current TracerProvider is not allowed\n"
     ]
    },
    {
     "name": "stdout",
     "output_type": "stream",
     "text": [
      "\u001b[1m\u001b[93m \n",
      "[2025-03-05 15:15:17][INFO]: Planning the crew execution\u001b[00m\n",
      "\u001b[1m\u001b[95m# Agent:\u001b[00m \u001b[1m\u001b[92mStudent Helper\u001b[00m\n",
      "\u001b[95m## Task:\u001b[00m \u001b[92mAnswer the student query or search online if needed: Explain boyle's laws of motion and share a YouTube video about it.1. **Search for Boyle's Law Explanation:** The Student Helper will use the 'Search' tool with the query \"Boyle's Law explained\" to gather information about Boyle's Law from reputable sources.\n",
      "2. **Synthesize Information:** The Student Helper will synthesize the information obtained from the search results to create a clear and concise explanation of Boyle's Law. This explanation should cover the relationship between pressure and volume of a gas at constant temperature.\n",
      "3. **Search for Relevant YouTube Video:** The Student Helper will use the 'Search' tool again with the query \"Boyle's Law YouTube video\" to find a suitable video that explains Boyle's Law in an understandable way.\n",
      "4. **Select and Review Video:** The Student Helper will review the top search results for YouTube videos, selecting a video that is accurate, clear, and appropriate for students. They will ensure the video complements the written explanation.\n",
      "5. **Compose Answer:** The Student Helper will compose a complete answer that includes: \n",
      "    *   A clear explanation of Boyle's Law.\n",
      "    *   A link to the selected YouTube video.\n",
      "6. **Present Answer:** The Student Helper will present the complete answer to the student.\u001b[00m\n",
      "\n",
      "\n",
      "\u001b[1m\u001b[95m# Agent:\u001b[00m \u001b[1m\u001b[92mStudent Helper\u001b[00m\n",
      "\u001b[95m## Using tool:\u001b[00m \u001b[92mSearch\u001b[00m\n",
      "\u001b[95m## Tool Input:\u001b[00m \u001b[92m\n",
      "\"{\\\"query\\\": \\\"Boyle's Law explained\\\"}\"\u001b[00m\n",
      "\u001b[95m## Tool Output:\u001b[00m \u001b[92m\n",
      "Boyle's law is a gas law that states that a gas's pressure and volume are inversely proportional. When the temperature is kept constant, as volume increases, ... Boyle's law, a relation concerning the compression and expansion of a gas at constant temperature. This empirical relation, formulated by ... Boyle's Law states that the pressure and volume of a gas are inversely proportional, for a fixed amount of gas at a fixed temperature. In other words, as long ... Boyle's law states that when the temperature of a given mass of confined gas is constant, the product of its pressure and volume is also constant. Boyle's Law is a basic law in chemistry describing the behavior of a gas held at a constant temperature. The law, discovered by Robert A. Boyle in 1662, ... 20 seconds into the video I already understood this way more than when my teach explained it over three class periods. Boyle's Law. Robert Boyle, a famous English chemist, discovered in 1662 that if you pushed on a gas, its volume would decrease proportionately. Boyle's law states that the volume of a given mass of gas varies inversely with the pressure when the temperature is kept constant. For a fixed mass of gas at constant temperature, the volume is inversely proportional to the pressure. · pV = constant. gaslaws #animatedChemistry #kineticschool Boyle's law Chapters: 0:00 Kinetic school's intro 0:11 About Robert Boyle 0:29 Boyle's Experiment ...\u001b[00m\n",
      "\n",
      "\n",
      "\u001b[1m\u001b[95m# Agent:\u001b[00m \u001b[1m\u001b[92mStudent Helper\u001b[00m\n",
      "\u001b[95m## Using tool:\u001b[00m \u001b[92mSearch\u001b[00m\n",
      "\u001b[95m## Tool Input:\u001b[00m \u001b[92m\n",
      "\"{\\\"query\\\": \\\"Boyle's Law YouTube video\\\"}\"\u001b[00m\n",
      "\u001b[95m## Tool Output:\u001b[00m \u001b[92m\n",
      "To see all my Chemistry videos, check out http://socratic.org/chemistry An introduction to the relationship between pressure and volume, ... ... video, we will have Boyle's Law which is concerning the relationship of pressure and volume. Boyle's law was formulated by the famous ... Part of NCSSM CORE collection: This video shows the relationship between volume and pressure by placing a balloon, a marshmallow, ... ... video you will be able to demonstrate with an experiment how Boyle's ... youtube.com/watch?v=xVKIiCYTsmQ&list=PL7VnnL-CJ ... gaslaws #animatedChemistry #kineticschool Boyle's law Chapters: 0:00 Kinetic school's intro 0:11 About Robert Boyle 0:29 Boyle's Experiment ... ... Boyle's Law to compare two situations (before and after) 2:12 Example 1 3:18 Example 2 4:12 Other gas laws SUBSCRIBE so you never miss a video ... ... video, we look at Boyle's Law and Charles' Law, which explain the relationships between gas temperature, pressure and volume. But what about ... Learn how to solve problems involving Boyle's law. Boyle's law states that as pressure increases then volume decreases and pressure ... Boyle's Law states that the pressure and volume of a gas are inversely proportional, for a fixed amount of gas at a fixed temperature. In other words, as long ... Length of column of air trapped in plastic pipet decreases as pressure is applied. Simple but effective! This video is part of the Flinn ...\u001b[00m\n",
      "\n",
      "\n",
      "\u001b[1m\u001b[95m# Agent:\u001b[00m \u001b[1m\u001b[92mStudent Helper\u001b[00m\n",
      "\u001b[95m## Final Answer:\u001b[00m \u001b[92m\n",
      "Boyle's Law states that the pressure and volume of a gas are inversely proportional when the temperature and the amount of gas are kept constant. This means that as the pressure of a gas increases, its volume decreases proportionally, and vice versa. Mathematically, Boyle's Law is expressed as:\n",
      "\n",
      "P₁V₁ = P₂V₂\n",
      "\n",
      "Where:\n",
      "*   P₁ = Initial pressure\n",
      "*   V₁ = Initial volume\n",
      "*   P₂ = Final pressure\n",
      "*   V₂ = Final volume\n",
      "\n",
      "Here's a helpful YouTube video that explains Boyle's Law:\n",
      "\n",
      "[https://www.youtube.com/watch?v=xVKIiCYTsmQ](https://www.youtube.com/watch?v=xVKIiCYTsmQ)\u001b[00m\n",
      "\n",
      "\n",
      "Bot's Response: Boyle's Law states that the pressure and volume of a gas are inversely proportional when the temperature and the amount of gas are kept constant. This means that as the pressure of a gas increases, its volume decreases proportionally, and vice versa. Mathematically, Boyle's Law is expressed as:\n",
      "\n",
      "P₁V₁ = P₂V₂\n",
      "\n",
      "Where:\n",
      "*   P₁ = Initial pressure\n",
      "*   V₁ = Initial volume\n",
      "*   P₂ = Final pressure\n",
      "*   V₂ = Final volume\n",
      "\n",
      "Here's a helpful YouTube video that explains Boyle's Law:\n",
      "\n",
      "[https://www.youtube.com/watch?v=xVKIiCYTsmQ](https://www.youtube.com/watch?v=xVKIiCYTsmQ)\n"
     ]
    }
   ],
   "source": [
    "from pydantic import Field\n",
    "from crewai.tools import BaseTool\n",
    "from crewai import Agent, Task, Crew\n",
    "from langchain_community.tools import YouTubeSearchTool\n",
    "from langchain_community.utilities import GoogleSerperAPIWrapper\n",
    "\n",
    "from dotenv import load_dotenv\n",
    "load_dotenv()\n",
    "\n",
    "search = GoogleSerperAPIWrapper()\n",
    "\n",
    "class SearchTool(BaseTool):\n",
    "    name: str = \"Search\"\n",
    "    description: str = \"Useful for search-based queries. Use this to find current information about markets, companies, and trends.\"\n",
    "    search: GoogleSerperAPIWrapper = Field(default_factory=GoogleSerperAPIWrapper)\n",
    "\n",
    "    def _run(self, query: str) -> str:\n",
    "        \"\"\"Execute the search query and return results\"\"\"\n",
    "        try:\n",
    "            return self.search.run(query)\n",
    "        except Exception as e:\n",
    "            return f\"Error performing search: {str(e)}\"\n",
    "\n",
    "\n",
    "# Create agents\n",
    "llm_agent = Agent(\n",
    "    role='Student Helper',\n",
    "    goal='Answer students’ questions or search the web/YouTube if unsure.',\n",
    "    backstory='A knowledgeable AI assistant who helps students with their queries and provides relevant resources.',\n",
    "    tools=[SearchTool()],\n",
    "    verbose=True,\n",
    "    llm=llm1\n",
    ")\n",
    "\n",
    "# Define tasks\n",
    "def student_query_task(question):\n",
    "    return Task(\n",
    "        description=f\"Answer the student query or search online if needed: {question}\",\n",
    "        expected_output='A helpful answer to the student’s question, with links to additional resources if available.',\n",
    "        agent=llm_agent\n",
    "    )\n",
    "\n",
    "# Assemble the crew\n",
    "def run_chatbot(question):\n",
    "    task = student_query_task(question)\n",
    "    crew = Crew(\n",
    "        agents=[llm_agent],\n",
    "        tasks=[task],\n",
    "        verbose=True,\n",
    "        planning=True,\n",
    "        planning_llm=llm1,\n",
    "        embedder=google_embedder\n",
    "    )\n",
    "    result = crew.kickoff(inputs={\"question\": question})\n",
    "    return result\n",
    "\n",
    "# Example query\n",
    "question = \"Explain boyle's laws of motion and share a YouTube video about it.\"\n",
    "response = run_chatbot(question)\n",
    "print(\"Bot's Response:\", response)"
   ]
  }
 ],
 "metadata": {
  "kernelspec": {
   "display_name": ".venv",
   "language": "python",
   "name": "python3"
  },
  "language_info": {
   "codemirror_mode": {
    "name": "ipython",
    "version": 3
   },
   "file_extension": ".py",
   "mimetype": "text/x-python",
   "name": "python",
   "nbconvert_exporter": "python",
   "pygments_lexer": "ipython3",
   "version": "3.12.9"
  }
 },
 "nbformat": 4,
 "nbformat_minor": 2
}
